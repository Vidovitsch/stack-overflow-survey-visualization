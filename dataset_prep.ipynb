{
 "cells": [
  {
   "cell_type": "code",
   "execution_count": 1,
   "metadata": {},
   "outputs": [],
   "source": [
    "import pandas as pd"
   ]
  },
  {
   "cell_type": "code",
   "execution_count": 2,
   "metadata": {
    "scrolled": true
   },
   "outputs": [],
   "source": [
    "so_survey = pd.read_csv('./dataset/2018 Stack Overflow Survey Results.csv', low_memory=False)"
   ]
  },
  {
   "cell_type": "code",
   "execution_count": 3,
   "metadata": {},
   "outputs": [
    {
     "name": "stdout",
     "output_type": "stream",
     "text": [
      "(98855, 11)\n",
      "(37415, 11)\n"
     ]
    }
   ],
   "source": [
    "columns = ['LanguageWorkedWith', 'DevType', 'ConvertedSalary', 'Exercise', 'HoursComputer', \n",
    "           'HoursOutside', 'JobSatisfaction', 'Employment', 'CompanySize', 'Country', 'Gender']\n",
    "so_survey = so_survey[columns]\n",
    "print(so_survey.shape)\n",
    "so_survey = so_survey.dropna()\n",
    "print(so_survey.shape)"
   ]
  },
  {
   "cell_type": "code",
   "execution_count": 4,
   "metadata": {},
   "outputs": [],
   "source": [
    "so_survey.to_csv('./dataset/2018 Stack Overflow Survey Results_prepped.csv', index=False);"
   ]
  }
 ],
 "metadata": {
  "kernelspec": {
   "display_name": "Python 3",
   "language": "python",
   "name": "python3"
  },
  "language_info": {
   "codemirror_mode": {
    "name": "ipython",
    "version": 3
   },
   "file_extension": ".py",
   "mimetype": "text/x-python",
   "name": "python",
   "nbconvert_exporter": "python",
   "pygments_lexer": "ipython3",
   "version": "3.6.5"
  }
 },
 "nbformat": 4,
 "nbformat_minor": 2
}
