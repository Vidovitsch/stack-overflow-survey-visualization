{
 "cells": [
  {
   "cell_type": "code",
   "execution_count": 1,
   "metadata": {},
   "outputs": [],
   "source": [
    "import pandas as pd"
   ]
  },
  {
   "cell_type": "code",
   "execution_count": 2,
   "metadata": {},
   "outputs": [],
   "source": [
    "# Import original dataset\n",
    "so_survey = pd.read_csv('./dataset/2018 Stack Overflow Survey Results.csv', low_memory=False)"
   ]
  },
  {
   "cell_type": "code",
   "execution_count": 3,
   "metadata": {},
   "outputs": [],
   "source": [
    "# Use only the following columns: LanguageWorkedWith, DevType, ConvertedSalary, \n",
    "# Exercise, HoursComputer, HoursOutside, JobSatisfaction, Employment\n",
    "columns = ['LanguageWorkedWith', 'DevType', 'ConvertedSalary', 'Exercise',\n",
    "           'HoursComputer', 'HoursOutside', 'JobSatisfaction', 'Employment']\n",
    "so_survey = so_survey[columns]"
   ]
  },
  {
   "cell_type": "code",
   "execution_count": 4,
   "metadata": {},
   "outputs": [],
   "source": [
    "# Drop row containing NaN values\n",
    "so_survey = so_survey.dropna()"
   ]
  },
  {
   "cell_type": "code",
   "execution_count": 5,
   "metadata": {},
   "outputs": [],
   "source": [
    "# Export processed dataset\n",
    "so_survey.to_csv('./dataset/2018 Stack Overflow Survey Results_prepped.csv', index=False);"
   ]
  }
 ],
 "metadata": {
  "kernelspec": {
   "display_name": "Python 3",
   "language": "python",
   "name": "python3"
  },
  "language_info": {
   "codemirror_mode": {
    "name": "ipython",
    "version": 3
   },
   "file_extension": ".py",
   "mimetype": "text/x-python",
   "name": "python",
   "nbconvert_exporter": "python",
   "pygments_lexer": "ipython3",
   "version": "3.6.5"
  }
 },
 "nbformat": 4,
 "nbformat_minor": 2
}
