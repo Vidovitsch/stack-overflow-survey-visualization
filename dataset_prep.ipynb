{
 "cells": [
  {
   "cell_type": "code",
   "execution_count": 1,
   "metadata": {},
   "outputs": [],
   "source": [
    "import pandas as pd"
   ]
  },
  {
   "cell_type": "code",
   "execution_count": 2,
   "metadata": {
    "scrolled": true
   },
   "outputs": [],
   "source": [
    "so_survey = pd.read_csv('./dataset/2018 Stack Overflow Survey Results.csv', low_memory=False)"
   ]
  },
  {
   "cell_type": "code",
   "execution_count": 3,
   "metadata": {},
   "outputs": [
    {
     "name": "stdout",
     "output_type": "stream",
     "text": [
      "(98855, 11)\n",
      "(37415, 11)\n"
     ]
    }
   ],
   "source": [
    "columns = ['LanguageWorkedWith', 'DevType', 'ConvertedSalary', 'Exercise', 'HoursComputer', \n",
    "           'HoursOutside', 'JobSatisfaction', 'Employment', 'CompanySize', 'Country', 'Gender']\n",
    "so_survey = so_survey[columns]\n",
    "print(so_survey.shape)\n",
    "so_survey = so_survey.dropna()\n",
    "print(so_survey.shape)"
   ]
  },
  {
   "cell_type": "code",
   "execution_count": 4,
   "metadata": {},
   "outputs": [
    {
     "data": {
      "text/plain": [
       "269      2000000.0\n",
       "406      2000000.0\n",
       "523      2000000.0\n",
       "530      2000000.0\n",
       "654      2000000.0\n",
       "1321     2000000.0\n",
       "1449     2000000.0\n",
       "1458     2000000.0\n",
       "1925     2000000.0\n",
       "3065     2000000.0\n",
       "3127     2000000.0\n",
       "3735     2000000.0\n",
       "4313     2000000.0\n",
       "4816     2000000.0\n",
       "5420     2000000.0\n",
       "5745     2000000.0\n",
       "8575     2000000.0\n",
       "9797     2000000.0\n",
       "9976     2000000.0\n",
       "10057    2000000.0\n",
       "10157    2000000.0\n",
       "10307    2000000.0\n",
       "11311    2000000.0\n",
       "11470    2000000.0\n",
       "11693    2000000.0\n",
       "11813    2000000.0\n",
       "12026    2000000.0\n",
       "12031    2000000.0\n",
       "12090    2000000.0\n",
       "12233    2000000.0\n",
       "           ...    \n",
       "60572    2000000.0\n",
       "60682    2000000.0\n",
       "60801    2000000.0\n",
       "62313    2000000.0\n",
       "62530    2000000.0\n",
       "62630    2000000.0\n",
       "62635    2000000.0\n",
       "63435    2000000.0\n",
       "63563    2000000.0\n",
       "63582    2000000.0\n",
       "64028    2000000.0\n",
       "64041    2000000.0\n",
       "64289    2000000.0\n",
       "64489    2000000.0\n",
       "64713    2000000.0\n",
       "65140    2000000.0\n",
       "65146    2000000.0\n",
       "66054    2000000.0\n",
       "66123    2000000.0\n",
       "66513    2000000.0\n",
       "66562    2000000.0\n",
       "66732    2000000.0\n",
       "67649    2000000.0\n",
       "67714    2000000.0\n",
       "68953    2000000.0\n",
       "69880    2000000.0\n",
       "70788    2000000.0\n",
       "70868    2000000.0\n",
       "70913    2000000.0\n",
       "71357    2000000.0\n",
       "Name: ConvertedSalary, Length: 188, dtype: float64"
      ]
     },
     "execution_count": 4,
     "metadata": {},
     "output_type": "execute_result"
    }
   ],
   "source": [
    "so_survey.to_csv('./dataset/2018 Stack Overflow Survey Results_prepped.csv', index=False);\n",
    "so_survey['ConvertedSalary'][so_survey['ConvertedSalary'] == 2000000]"
   ]
  },
  {
   "cell_type": "code",
   "execution_count": null,
   "metadata": {},
   "outputs": [],
   "source": []
  }
 ],
 "metadata": {
  "kernelspec": {
   "display_name": "Python 3",
   "language": "python",
   "name": "python3"
  },
  "language_info": {
   "codemirror_mode": {
    "name": "ipython",
    "version": 3
   },
   "file_extension": ".py",
   "mimetype": "text/x-python",
   "name": "python",
   "nbconvert_exporter": "python",
   "pygments_lexer": "ipython3",
   "version": "3.6.5"
  }
 },
 "nbformat": 4,
 "nbformat_minor": 2
}
